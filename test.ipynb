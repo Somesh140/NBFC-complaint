{
 "cells": [
  {
   "cell_type": "code",
   "execution_count": 1,
   "metadata": {},
   "outputs": [
    {
     "name": "stderr",
     "output_type": "stream",
     "text": [
      "Setting default log level to \"WARN\".\n",
      "To adjust logging level use sc.setLogLevel(newLevel). For SparkR, use setLogLevel(newLevel).\n",
      "23/02/20 20:11:41 WARN NativeCodeLoader: Unable to load native-hadoop library for your platform... using builtin-java classes where applicable\n"
     ]
    }
   ],
   "source": [
    "from src.config.spark_manager import spark_session"
   ]
  },
  {
   "cell_type": "code",
   "execution_count": 2,
   "metadata": {},
   "outputs": [],
   "source": [
    "file_path=\"/config/workspace/artifact/20230220_001257/data_validation/accepted_data/finance_complaint\""
   ]
  },
  {
   "cell_type": "code",
   "execution_count": 3,
   "metadata": {},
   "outputs": [
    {
     "name": "stderr",
     "output_type": "stream",
     "text": [
      "                                                                                \r"
     ]
    }
   ],
   "source": [
    "df=spark_session.read.parquet(file_path)"
   ]
  },
  {
   "cell_type": "code",
   "execution_count": 4,
   "metadata": {},
   "outputs": [
    {
     "data": {
      "text/plain": [
       "10000"
      ]
     },
     "execution_count": 4,
     "metadata": {},
     "output_type": "execute_result"
    }
   ],
   "source": [
    "df.count()"
   ]
  },
  {
   "cell_type": "code",
   "execution_count": 5,
   "metadata": {},
   "outputs": [
    {
     "data": {
      "text/plain": [
       "DataFrame[company: string, company_response: string, consumer_consent_provided: string, consumer_disputed: string, date_received: string, date_sent_to_company: string, issue: string, product: string, state: string, sub_issue: string, submitted_via: string, timely: string, zip_code: string]"
      ]
     },
     "execution_count": 5,
     "metadata": {},
     "output_type": "execute_result"
    }
   ],
   "source": [
    "df"
   ]
  },
  {
   "cell_type": "code",
   "execution_count": 6,
   "metadata": {},
   "outputs": [],
   "source": [
    "from pyspark.sql import functions as F"
   ]
  },
  {
   "cell_type": "code",
   "execution_count": 7,
   "metadata": {},
   "outputs": [
    {
     "data": {
      "text/plain": [
       "DataFrame[product: string]"
      ]
     },
     "execution_count": 7,
     "metadata": {},
     "output_type": "execute_result"
    }
   ],
   "source": [
    "df.select(F.col(\"product\"))"
   ]
  },
  {
   "cell_type": "code",
   "execution_count": 11,
   "metadata": {},
   "outputs": [
    {
     "name": "stdout",
     "output_type": "stream",
     "text": [
      "+--------------------+-----+\n",
      "|             product|count|\n",
      "+--------------------+-----+\n",
      "|     Debt collection|  503|\n",
      "|Money transfer, v...|  141|\n",
      "|Checking or savin...|  358|\n",
      "|            Mortgage|  202|\n",
      "|Credit card or pr...|  444|\n",
      "|Credit reporting,...| 8101|\n",
      "|Vehicle loan or l...|  118|\n",
      "|        Student loan|   90|\n",
      "|Payday loan, titl...|   43|\n",
      "+--------------------+-----+\n",
      "\n"
     ]
    }
   ],
   "source": [
    "df.select(F.col(\"product\")).groupby(\"product\").count().show()"
   ]
  },
  {
   "cell_type": "code",
   "execution_count": 12,
   "metadata": {},
   "outputs": [
    {
     "data": {
      "text/plain": [
       "[Row(product='Debt collection', count=503),\n",
       " Row(product='Money transfer, virtual currency, or money service', count=141),\n",
       " Row(product='Checking or savings account', count=358),\n",
       " Row(product='Mortgage', count=202),\n",
       " Row(product='Credit card or prepaid card', count=444),\n",
       " Row(product='Credit reporting, credit repair services, or other personal consumer reports', count=8101),\n",
       " Row(product='Vehicle loan or lease', count=118),\n",
       " Row(product='Student loan', count=90),\n",
       " Row(product='Payday loan, title loan, or personal loan', count=43)]"
      ]
     },
     "execution_count": 12,
     "metadata": {},
     "output_type": "execute_result"
    }
   ],
   "source": [
    "df.select(F.col(\"product\")).groupby(\"product\").count().collect()"
   ]
  },
  {
   "cell_type": "code",
   "execution_count": 13,
   "metadata": {},
   "outputs": [
    {
     "data": {
      "text/plain": [
       "DataFrame[product: string, count: bigint]"
      ]
     },
     "execution_count": 13,
     "metadata": {},
     "output_type": "execute_result"
    }
   ],
   "source": [
    "spark_session.createDataFrame(df.select(F.col(\"product\")).groupby(\"product\").count().collect())"
   ]
  },
  {
   "cell_type": "code",
   "execution_count": 2,
   "metadata": {},
   "outputs": [
    {
     "name": "stderr",
     "output_type": "stream",
     "text": [
      "Setting default log level to \"WARN\".\n",
      "To adjust logging level use sc.setLogLevel(newLevel). For SparkR, use setLogLevel(newLevel).\n",
      "23/02/23 22:03:35 WARN NativeCodeLoader: Unable to load native-hadoop library for your platform... using builtin-java classes where applicable\n"
     ]
    }
   ],
   "source": [
    "from src.config.spark_manager import spark_session"
   ]
  },
  {
   "cell_type": "code",
   "execution_count": 3,
   "metadata": {},
   "outputs": [
    {
     "name": "stderr",
     "output_type": "stream",
     "text": [
      "                                                                                \r"
     ]
    }
   ],
   "source": [
    "df=spark_session.read.parquet(\"/config/workspace/data/outbox/finance_complaint_20230223_212240\")"
   ]
  },
  {
   "cell_type": "code",
   "execution_count": 4,
   "metadata": {},
   "outputs": [
    {
     "name": "stderr",
     "output_type": "stream",
     "text": [
      "23/02/23 22:05:14 WARN package: Truncated the string representation of a plan since it was too large. This behavior can be adjusted by setting 'spark.sql.debug.maxToStringFields'.\n",
      "[Stage 1:>                                                          (0 + 1) / 1]\r"
     ]
    },
    {
     "name": "stdout",
     "output_type": "stream",
     "text": [
      "+--------------------+-----------------------+--------------------+------------+-----------------------+-------------------------+-----------------+-------------------+--------------------+--------------------+--------------------+-----+--------------------+----------------+-------------+----+------+--------+------------+---------------+--------------------+----------------------------+----------------+-------------------+----------------------------+----------------+-------------------+----------------------------+----------------+--------------------+--------------------+--------------------+--------------------+---------------------+-------------+-----------+----------+----------------------------+\n",
      "|             company|company_public_response|    company_response|complaint_id|complaint_what_happened|consumer_consent_provided|consumer_disputed|      date_received|date_sent_to_company|               issue|             product|state|           sub_issue|     sub_product|submitted_via|tags|timely|zip_code|diff_in_days|im_diff_in_days| im_company_response|im_consumer_consent_provided|im_submitted_via|si_company_response|si_consumer_consent_provided|si_submitted_via|tf_company_response|tf_consumer_consent_provided|tf_submitted_via|               words|         rawFeatures|            tf_issue|   va_input_features|scaled_input_features|rawPrediction|probability|prediction|prediction_consumer_disputed|\n",
      "+--------------------+-----------------------+--------------------+------------+-----------------------+-------------------------+-----------------+-------------------+--------------------+--------------------+--------------------+-----+--------------------+----------------+-------------+----+------+--------+------------+---------------+--------------------+----------------------------+----------------+-------------------+----------------------------+----------------+-------------------+----------------------------+----------------+--------------------+--------------------+--------------------+--------------------+---------------------+-------------+-----------+----------+----------------------------+\n",
      "|TRANSUNION INTERM...|   Company has respo...|Closed with non-m...|     6121453|                       |                    Other|              N/A|2022-10-24 22:30:00| 2022-10-24 22:30:00|Problem with a cr...|Credit reporting,...|   PA|Their investigati...|Credit reporting|          Web|null|   Yes|   15001|         0.0|            0.0|Closed with non-m...|                       Other|             Web|                1.0|                         2.0|             0.0|      (3,[1],[1.0])|               (4,[2],[1.0])|   (4,[0],[1.0])|[problem, with, a...|(40,[10,11,18,20,...|(40,[10,11,18,20,...|(52,[1,5,7,22,23,...| (52,[1,5,7,22,23,...|       [20.0]|      [1.0]|       0.0|                         N/A|\n",
      "|       EQUIFAX, INC.|                   null|Closed with expla...|     6112621|   On ( XX/XX/2022 )...|         Consent provided|              N/A|2022-10-21 22:30:00| 2022-10-21 22:30:00|Problem with a cr...|Credit reporting,...|   FL|Investigation too...|Credit reporting|          Web|null|   Yes|   33309|         0.0|            0.0|Closed with expla...|            Consent provided|             Web|                0.0|                         1.0|             0.0|      (3,[0],[1.0])|               (4,[1],[1.0])|   (4,[0],[1.0])|[problem, with, a...|(40,[10,11,18,20,...|(40,[10,11,18,20,...|(52,[0,4,7,22,23,...| (52,[0,4,7,22,23,...|       [20.0]|      [1.0]|       0.0|                         N/A|\n",
      "|       EQUIFAX, INC.|                   null|Closed with expla...|     6062444|                       |     Consent not provided|              N/A|2022-10-07 22:30:00| 2022-10-07 22:30:00|Incorrect informa...|Credit reporting,...|   LA|Information belon...|Credit reporting|          Web|null|   Yes|   70520|         0.0|            0.0|Closed with expla...|        Consent not provided|             Web|                0.0|                         0.0|             0.0|      (3,[0],[1.0])|               (4,[0],[1.0])|   (4,[0],[1.0])|[incorrect, infor...|(40,[16,22,23,25,...|(40,[16,22,23,25,...|(52,[0,3,7,28,34,...| (52,[0,3,7,28,34,...|       [20.0]|      [1.0]|       0.0|                         N/A|\n",
      "|     CL Holdings LLC|                   null|Closed with expla...|     6109424|                       |     Consent not provided|              N/A|2022-10-20 22:30:00| 2022-10-20 22:30:00|Written notificat...|     Debt collection|   NY|Didn't receive en...|      Other debt|          Web|null|   Yes|   11776|         0.0|            0.0|Closed with expla...|        Consent not provided|             Web|                0.0|                         0.0|             0.0|      (3,[0],[1.0])|               (4,[0],[1.0])|   (4,[0],[1.0])|[written, notific...|(40,[10,14,36],[1...|(40,[10,14,36],[1...|(52,[0,3,7,22,26,...| (52,[0,3,7,22,26,...|       [20.0]|      [1.0]|       0.0|                         N/A|\n",
      "|      Coinbase, Inc.|                   null|Closed with expla...|     6134891|                       |     Consent not provided|              N/A|2022-10-27 22:30:00| 2022-10-27 22:30:00|       Fraud or scam|Money transfer, v...|   OH|                null|Virtual currency|          Web|null|   Yes|   44035|         0.0|            0.0|Closed with expla...|        Consent not provided|             Web|                0.0|                         0.0|             0.0|      (3,[0],[1.0])|               (4,[0],[1.0])|   (4,[0],[1.0])|   [fraud, or, scam]|(40,[21,34,38],[1...|(40,[21,34,38],[2...|(52,[0,3,7,33,46,...| (52,[0,3,7,33,46,...|       [20.0]|      [1.0]|       0.0|                         N/A|\n",
      "|Experian Informat...|   Company has respo...|Closed with non-m...|     6081154|                       |     Consent not provided|              N/A|2022-10-13 22:30:00| 2022-10-13 22:30:00|Problem with a cr...|Credit reporting,...|   SC|Was not notified ...|Credit reporting|          Web|null|   Yes|   29150|         0.0|            0.0|Closed with non-m...|        Consent not provided|             Web|                1.0|                         0.0|             0.0|      (3,[1],[1.0])|               (4,[0],[1.0])|   (4,[0],[1.0])|[problem, with, a...|(40,[10,11,18,20,...|(40,[10,11,18,20,...|(52,[1,3,7,22,23,...| (52,[1,3,7,22,23,...|       [20.0]|      [1.0]|       0.0|                         N/A|\n",
      "|Experian Informat...|   Company has respo...|Closed with expla...|     6097225|                       |                    Other|              N/A|2022-10-17 22:30:00| 2022-10-17 22:30:00|Problem with a cr...|Credit reporting,...|   NC|Their investigati...|Credit reporting|          Web|null|   Yes|   27203|         0.0|            0.0|Closed with expla...|                       Other|             Web|                0.0|                         2.0|             0.0|      (3,[0],[1.0])|               (4,[2],[1.0])|   (4,[0],[1.0])|[problem, with, a...|(40,[10,11,18,20,...|(40,[10,11,18,20,...|(52,[0,5,7,22,23,...| (52,[0,5,7,22,23,...|       [20.0]|      [1.0]|       0.0|                         N/A|\n",
      "|Mercedes Benz Fin...|                   null|Closed with expla...|     6084681|                       |     Consent not provided|              N/A|2022-10-13 22:30:00| 2022-10-13 22:30:00|Improper use of y...|Credit reporting,...|   PA|Reporting company...|Credit reporting|          Web|null|   Yes|   19105|         0.0|            0.0|Closed with expla...|        Consent not provided|             Web|                0.0|                         0.0|             0.0|      (3,[0],[1.0])|               (4,[0],[1.0])|   (4,[0],[1.0])|[improper, use, o...|(40,[13,15,23,25,...|(40,[13,15,23,25,...|(52,[0,3,7,25,27,...| (52,[0,3,7,25,27,...|       [20.0]|      [1.0]|       0.0|                         N/A|\n",
      "|TRANSUNION INTERM...|   Company has respo...|Closed with non-m...|     6128380|   I keep sending ma...|         Consent provided|              N/A|2022-10-25 22:30:00| 2022-10-25 22:30:00|Improper use of y...|Credit reporting,...|   NC|Credit inquiries ...|Credit reporting|          Web|null|   Yes|   27704|         0.0|            0.0|Closed with non-m...|            Consent provided|             Web|                1.0|                         1.0|             0.0|      (3,[1],[1.0])|               (4,[1],[1.0])|   (4,[0],[1.0])|[improper, use, o...|(40,[13,15,23,25,...|(40,[13,15,23,25,...|(52,[1,4,7,25,27,...| (52,[1,4,7,25,27,...|       [20.0]|      [1.0]|       0.0|                         N/A|\n",
      "|       EQUIFAX, INC.|                   null|Closed with expla...|     6140698|                       |     Consent not provided|              N/A|2022-10-28 22:30:00| 2022-10-28 22:30:00|Problem with a cr...|Credit reporting,...|   IN|Their investigati...|Credit reporting|          Web|null|   Yes|   46224|         0.0|            0.0|Closed with expla...|        Consent not provided|             Web|                0.0|                         0.0|             0.0|      (3,[0],[1.0])|               (4,[0],[1.0])|   (4,[0],[1.0])|[problem, with, a...|(40,[10,11,18,20,...|(40,[10,11,18,20,...|(52,[0,3,7,22,23,...| (52,[0,3,7,22,23,...|       [20.0]|      [1.0]|       0.0|                         N/A|\n",
      "|TRANSUNION INTERM...|   Company has respo...|Closed with non-m...|     6080870|                       |     Consent not provided|              N/A|2022-10-13 22:30:00| 2022-10-13 22:30:00|Improper use of y...|Credit reporting,...|   TX|Reporting company...|Credit reporting|          Web|null|   Yes|   75662|         0.0|            0.0|Closed with non-m...|        Consent not provided|             Web|                1.0|                         0.0|             0.0|      (3,[1],[1.0])|               (4,[0],[1.0])|   (4,[0],[1.0])|[improper, use, o...|(40,[13,15,23,25,...|(40,[13,15,23,25,...|(52,[1,3,7,25,27,...| (52,[1,3,7,25,27,...|       [20.0]|      [1.0]|       0.0|                         N/A|\n",
      "|ENCORE CAPITAL GR...|                   null|Closed with expla...|     6035808|                       |     Consent not provided|              N/A|2022-09-30 22:30:00| 2022-09-30 22:30:00|Attempts to colle...|     Debt collection|   NV|Debt was already ...|Credit card debt|          Web|null|   Yes|   89110|         0.0|            0.0|Closed with expla...|        Consent not provided|             Web|                0.0|                         0.0|             0.0|      (3,[0],[1.0])|               (4,[0],[1.0])|   (4,[0],[1.0])|[attempts, to, co...|(40,[3,5,8,14,15,...|(40,[3,5,8,14,15,...|(52,[0,3,7,15,17,...| (52,[0,3,7,15,17,...|       [20.0]|      [1.0]|       0.0|                         N/A|\n",
      "|       EQUIFAX, INC.|                   null|Closed with expla...|     6057139|                       |     Consent not provided|              N/A|2022-10-06 22:30:00| 2022-10-06 22:30:00|Improper use of y...|Credit reporting,...|   AZ|Credit inquiries ...|Credit reporting|          Web|null|   Yes|   85282|         0.0|            0.0|Closed with expla...|        Consent not provided|             Web|                0.0|                         0.0|             0.0|      (3,[0],[1.0])|               (4,[0],[1.0])|   (4,[0],[1.0])|[improper, use, o...|(40,[13,15,23,25,...|(40,[13,15,23,25,...|(52,[0,3,7,25,27,...| (52,[0,3,7,25,27,...|       [20.0]|      [1.0]|       0.0|                         N/A|\n",
      "|TRANSUNION INTERM...|   Company has respo...|Closed with non-m...|     6075944|                       |     Consent not provided|              N/A|2022-10-12 22:30:00| 2022-10-12 22:30:00|Improper use of y...|Credit reporting,...|   FL|Credit inquiries ...|Credit reporting|          Web|null|   Yes|   33544|         0.0|            0.0|Closed with non-m...|        Consent not provided|             Web|                1.0|                         0.0|             0.0|      (3,[1],[1.0])|               (4,[0],[1.0])|   (4,[0],[1.0])|[improper, use, o...|(40,[13,15,23,25,...|(40,[13,15,23,25,...|(52,[1,3,7,25,27,...| (52,[1,3,7,25,27,...|       [20.0]|      [1.0]|       0.0|                         N/A|\n",
      "|TRANSUNION INTERM...|   Company has respo...|Closed with non-m...|     6139236|                       |     Consent not provided|              N/A|2022-10-28 22:30:00| 2022-10-28 22:30:00|Improper use of y...|Credit reporting,...|   FL|Credit inquiries ...|Credit reporting|          Web|null|   Yes|   33434|         0.0|            0.0|Closed with non-m...|        Consent not provided|             Web|                1.0|                         0.0|             0.0|      (3,[1],[1.0])|               (4,[0],[1.0])|   (4,[0],[1.0])|[improper, use, o...|(40,[13,15,23,25,...|(40,[13,15,23,25,...|(52,[1,3,7,25,27,...| (52,[1,3,7,25,27,...|       [20.0]|      [1.0]|       0.0|                         N/A|\n",
      "|TRANSUNION INTERM...|   Company has respo...|Closed with non-m...|     6140937|   I'm really not su...|         Consent provided|              N/A|2022-10-28 22:30:00| 2022-10-28 22:30:00|Problem with a cr...|Credit reporting,...|   NC|Their investigati...|Credit reporting|          Web|null|   Yes|   27344|         0.0|            0.0|Closed with non-m...|            Consent provided|             Web|                1.0|                         1.0|             0.0|      (3,[1],[1.0])|               (4,[1],[1.0])|   (4,[0],[1.0])|[problem, with, a...|(40,[10,11,18,20,...|(40,[10,11,18,20,...|(52,[1,4,7,22,23,...| (52,[1,4,7,22,23,...|       [20.0]|      [1.0]|       0.0|                         N/A|\n",
      "|       EQUIFAX, INC.|                   null|Closed with expla...|     6041251|                       |     Consent not provided|              N/A|2022-10-02 22:30:00| 2022-10-02 22:30:00|Improper use of y...|Credit reporting,...|   PA|Reporting company...|Credit reporting|          Web|null|   Yes|   17202|         0.0|            0.0|Closed with expla...|        Consent not provided|             Web|                0.0|                         0.0|             0.0|      (3,[0],[1.0])|               (4,[0],[1.0])|   (4,[0],[1.0])|[improper, use, o...|(40,[13,15,23,25,...|(40,[13,15,23,25,...|(52,[0,3,7,25,27,...| (52,[0,3,7,25,27,...|       [20.0]|      [1.0]|       0.0|                         N/A|\n",
      "|        Synovus Bank|                   null|Closed with expla...|     6077221|                       |                    Other|              N/A|2022-10-12 22:30:00| 2022-10-12 22:30:00|Improper use of y...|Credit reporting,...|   CA|Credit inquiries ...|Credit reporting|          Web|null|   Yes|   91316|         0.0|            0.0|Closed with expla...|                       Other|             Web|                0.0|                         2.0|             0.0|      (3,[0],[1.0])|               (4,[2],[1.0])|   (4,[0],[1.0])|[improper, use, o...|(40,[13,15,23,25,...|(40,[13,15,23,25,...|(52,[0,5,7,25,27,...| (52,[0,5,7,25,27,...|       [20.0]|      [1.0]|       0.0|                         N/A|\n",
      "|TRANSUNION INTERM...|   Company has respo...|Closed with non-m...|     6131044|                       |     Consent not provided|              N/A|2022-10-27 22:30:00| 2022-10-27 22:30:00|Improper use of y...|Credit reporting,...|   OH|Reporting company...|Credit reporting|          Web|null|   Yes|   44119|         0.0|            0.0|Closed with non-m...|        Consent not provided|             Web|                1.0|                         0.0|             0.0|      (3,[1],[1.0])|               (4,[0],[1.0])|   (4,[0],[1.0])|[improper, use, o...|(40,[13,15,23,25,...|(40,[13,15,23,25,...|(52,[1,3,7,25,27,...| (52,[1,3,7,25,27,...|       [20.0]|      [1.0]|       0.0|                         N/A|\n",
      "|MERCHANTS ADJUSTM...|                   null|Closed with expla...|     6140757|                       |     Consent not provided|              N/A|2022-10-28 22:30:00| 2022-10-28 22:30:00|Written notificat...|     Debt collection|   GA|Didn't receive no...|    Medical debt|          Web|null|   Yes|   30213|         0.0|            0.0|Closed with expla...|        Consent not provided|             Web|                0.0|                         0.0|             0.0|      (3,[0],[1.0])|               (4,[0],[1.0])|   (4,[0],[1.0])|[written, notific...|(40,[10,14,36],[1...|(40,[10,14,36],[1...|(52,[0,3,7,22,26,...| (52,[0,3,7,22,26,...|       [20.0]|      [1.0]|       0.0|                         N/A|\n",
      "+--------------------+-----------------------+--------------------+------------+-----------------------+-------------------------+-----------------+-------------------+--------------------+--------------------+--------------------+-----+--------------------+----------------+-------------+----+------+--------+------------+---------------+--------------------+----------------------------+----------------+-------------------+----------------------------+----------------+-------------------+----------------------------+----------------+--------------------+--------------------+--------------------+--------------------+---------------------+-------------+-----------+----------+----------------------------+\n",
      "only showing top 20 rows\n",
      "\n"
     ]
    },
    {
     "name": "stderr",
     "output_type": "stream",
     "text": [
      "                                                                                \r"
     ]
    }
   ],
   "source": [
    "df.show()"
   ]
  },
  {
   "cell_type": "code",
   "execution_count": 5,
   "metadata": {},
   "outputs": [
    {
     "data": {
      "text/plain": [
       "['company',\n",
       " 'company_public_response',\n",
       " 'company_response',\n",
       " 'complaint_id',\n",
       " 'complaint_what_happened',\n",
       " 'consumer_consent_provided',\n",
       " 'consumer_disputed',\n",
       " 'date_received',\n",
       " 'date_sent_to_company',\n",
       " 'issue',\n",
       " 'product',\n",
       " 'state',\n",
       " 'sub_issue',\n",
       " 'sub_product',\n",
       " 'submitted_via',\n",
       " 'tags',\n",
       " 'timely',\n",
       " 'zip_code',\n",
       " 'diff_in_days',\n",
       " 'im_diff_in_days',\n",
       " 'im_company_response',\n",
       " 'im_consumer_consent_provided',\n",
       " 'im_submitted_via',\n",
       " 'si_company_response',\n",
       " 'si_consumer_consent_provided',\n",
       " 'si_submitted_via',\n",
       " 'tf_company_response',\n",
       " 'tf_consumer_consent_provided',\n",
       " 'tf_submitted_via',\n",
       " 'words',\n",
       " 'rawFeatures',\n",
       " 'tf_issue',\n",
       " 'va_input_features',\n",
       " 'scaled_input_features',\n",
       " 'rawPrediction',\n",
       " 'probability',\n",
       " 'prediction',\n",
       " 'prediction_consumer_disputed']"
      ]
     },
     "execution_count": 5,
     "metadata": {},
     "output_type": "execute_result"
    }
   ],
   "source": [
    "df.columns"
   ]
  },
  {
   "cell_type": "code",
   "execution_count": 7,
   "metadata": {},
   "outputs": [
    {
     "name": "stdout",
     "output_type": "stream",
     "text": [
      "+---------------------+-------------+-----------+----------+----------------------------+\n",
      "|scaled_input_features|rawPrediction|probability|prediction|prediction_consumer_disputed|\n",
      "+---------------------+-------------+-----------+----------+----------------------------+\n",
      "| (52,[1,5,7,22,23,...|       [20.0]|      [1.0]|       0.0|                         N/A|\n",
      "| (52,[0,4,7,22,23,...|       [20.0]|      [1.0]|       0.0|                         N/A|\n",
      "| (52,[0,3,7,28,34,...|       [20.0]|      [1.0]|       0.0|                         N/A|\n",
      "| (52,[0,3,7,22,26,...|       [20.0]|      [1.0]|       0.0|                         N/A|\n",
      "| (52,[0,3,7,33,46,...|       [20.0]|      [1.0]|       0.0|                         N/A|\n",
      "| (52,[1,3,7,22,23,...|       [20.0]|      [1.0]|       0.0|                         N/A|\n",
      "| (52,[0,5,7,22,23,...|       [20.0]|      [1.0]|       0.0|                         N/A|\n",
      "| (52,[0,3,7,25,27,...|       [20.0]|      [1.0]|       0.0|                         N/A|\n",
      "| (52,[1,4,7,25,27,...|       [20.0]|      [1.0]|       0.0|                         N/A|\n",
      "| (52,[0,3,7,22,23,...|       [20.0]|      [1.0]|       0.0|                         N/A|\n",
      "| (52,[1,3,7,25,27,...|       [20.0]|      [1.0]|       0.0|                         N/A|\n",
      "| (52,[0,3,7,15,17,...|       [20.0]|      [1.0]|       0.0|                         N/A|\n",
      "| (52,[0,3,7,25,27,...|       [20.0]|      [1.0]|       0.0|                         N/A|\n",
      "| (52,[1,3,7,25,27,...|       [20.0]|      [1.0]|       0.0|                         N/A|\n",
      "| (52,[1,3,7,25,27,...|       [20.0]|      [1.0]|       0.0|                         N/A|\n",
      "| (52,[1,4,7,22,23,...|       [20.0]|      [1.0]|       0.0|                         N/A|\n",
      "| (52,[0,3,7,25,27,...|       [20.0]|      [1.0]|       0.0|                         N/A|\n",
      "| (52,[0,5,7,25,27,...|       [20.0]|      [1.0]|       0.0|                         N/A|\n",
      "| (52,[1,3,7,25,27,...|       [20.0]|      [1.0]|       0.0|                         N/A|\n",
      "| (52,[0,3,7,22,26,...|       [20.0]|      [1.0]|       0.0|                         N/A|\n",
      "+---------------------+-------------+-----------+----------+----------------------------+\n",
      "only showing top 20 rows\n",
      "\n"
     ]
    }
   ],
   "source": [
    "df.select(['scaled_input_features',\n",
    " 'rawPrediction',\n",
    " 'probability',\n",
    " 'prediction',\n",
    " 'prediction_consumer_disputed']).show()"
   ]
  },
  {
   "cell_type": "code",
   "execution_count": null,
   "metadata": {},
   "outputs": [],
   "source": []
  }
 ],
 "metadata": {
  "kernelspec": {
   "display_name": "Python 3.8.10 64-bit",
   "language": "python",
   "name": "python3"
  },
  "language_info": {
   "codemirror_mode": {
    "name": "ipython",
    "version": 3
   },
   "file_extension": ".py",
   "mimetype": "text/x-python",
   "name": "python",
   "nbconvert_exporter": "python",
   "pygments_lexer": "ipython3",
   "version": "3.8.10"
  },
  "orig_nbformat": 4,
  "vscode": {
   "interpreter": {
    "hash": "e7370f93d1d0cde622a1f8e1c04877d8463912d04d973331ad4851f04de6915a"
   }
  }
 },
 "nbformat": 4,
 "nbformat_minor": 2
}
